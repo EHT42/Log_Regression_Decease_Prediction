{
 "nbformat": 4,
 "nbformat_minor": 0,
 "metadata": {
  "colab": {
   "provenance": [],
   "mount_file_id": "1liDw8B6dTGVqAtaSNqj2CuQ-iYERKKuf",
   "authorship_tag": "ABX9TyNSVZcDnjkp/0OhEvWLKnff"
  },
  "kernelspec": {
   "name": "python3",
   "display_name": "Python 3"
  },
  "language_info": {
   "name": "python"
  }
 },
 "cells": [
  {
   "cell_type": "code",
   "execution_count": 46,
   "metadata": {
    "colab": {
     "base_uri": "https://localhost:8080/",
     "height": 1000
    },
    "id": "SNlPwcPKgDAJ",
    "executionInfo": {
     "status": "ok",
     "timestamp": 1724662101733,
     "user_tz": -120,
     "elapsed": 2292,
     "user": {
      "displayName": "Eric Thomas",
      "userId": "14023923004756368365"
     }
    },
    "outputId": "c33de003-b4c9-46fe-dcdb-2e7d199cbe1f"
   },
   "outputs": [
    {
     "output_type": "stream",
     "name": "stdout",
     "text": [
      "Drive already mounted at /content/drive; to attempt to forcibly remount, call drive.mount(\"/content/drive\", force_remount=True).\n",
      "Erste Zeilen des Datensatzes:\n",
      "       Name  Age   BMI  BloodPressure  Cholesterol  Disease\n",
      "0  Patient1   45  23.4            120          200        0\n",
      "1  Patient2   56  27.5            135          220        1\n",
      "2  Patient3   34  22.1            110          180        0\n",
      "3  Patient4   65  30.2            140          240        1\n",
      "4  Patient5   29  19.8            115          190        0\n",
      "Genauigkeit: 1.00\n",
      "\n",
      "Klassifikationsbericht:\n",
      "              precision    recall  f1-score   support\n",
      "\n",
      "           0       1.00      1.00      1.00         1\n",
      "           1       1.00      1.00      1.00         2\n",
      "\n",
      "    accuracy                           1.00         3\n",
      "   macro avg       1.00      1.00      1.00         3\n",
      "weighted avg       1.00      1.00      1.00         3\n",
      "\n"
     ]
    },
    {
     "output_type": "display_data",
     "data": {
      "text/plain": [
       "<Figure size 640x480 with 2 Axes>"
      ],
      "image/png": "[encoded data removed]"
     },
     "metadata": {}
    },
    {
     "output_type": "stream",
     "name": "stdout",
     "text": [
      "Vorhergesagter Krankheitsstatus für einen Patienten mit Alter 50, BMI 26.0, Blutdruck 130, und Cholesterin 210:Krank\n",
      "Modellparameter:\n",
      "\n",
      "'C': 1.0 -- Inverse of regularization strength\n",
      "'class_weight': None -- Weights associated with classes\n",
      "'dual': False -- Dual or primal formulation\n",
      "'fit_intercept': True -- Whether to include an intercept\n",
      "'intercept_scaling': 1 -- Scaling of the intercept\n",
      "'l1_ratio': None -- Elastic-Net mixing parameter\n",
      "'max_iter': 1000 -- Maximum number of iterations\n",
      "'multi_class': auto -- Multi-class option\n",
      "'n_jobs': None -- Number of CPU cores used\n",
      "'penalty': l2 -- Norm used in the penalization\n",
      "'random_state': None -- Seed for random number generation\n",
      "'solver': lbfgs -- Algorithm to use in the optimization\n",
      "'tol': 0.0001 -- Tolerance for stopping criteria\n",
      "'verbose': 0 -- Verbosity mode\n",
      "'warm_start': False -- Reuse the solution of the previous call\n",
      "\n",
      "\n",
      "            Parameter Aktueller Wert                             Beschreibung\n",
      "0                   C            1.0       Inverse of regularization strength\n",
      "1        class_weight           None          Weights associated with classes\n",
      "2                dual          False               Dual or primal formulation\n",
      "3       fit_intercept           True          Whether to include an intercept\n",
      "4   intercept_scaling              1                 Scaling of the intercept\n",
      "5            l1_ratio           None             Elastic-Net mixing parameter\n",
      "6            max_iter           1000             Maximum number of iterations\n",
      "7         multi_class           auto                       Multi-class option\n",
      "8              n_jobs           None                 Number of CPU cores used\n",
      "9             penalty             l2            Norm used in the penalization\n",
      "10       random_state           None        Seed for random number generation\n",
      "11             solver          lbfgs     Algorithm to use in the optimization\n",
      "12                tol         0.0001          Tolerance for stopping criteria\n",
      "13            verbose              0                           Verbosity mode\n",
      "14         warm_start          False  Reuse the solution of the previous call \n",
      "\n"
     ]
    },
    {
     "output_type": "stream",
     "name": "stderr",
     "text": [
      "/usr/local/lib/python3.10/dist-packages/sklearn/base.py:465: UserWarning: X does not have valid feature names, but LogisticRegression was fitted with feature names\n",
      "  warnings.warn(\n"
     ]
    }
   ],
   "source": [
    "# Logistische Regression zur Klassifikation von Patienten in Python\n",
    "# Teil 1: Importieren der notwendigen Bibliotheken\n",
    "import numpy as np\n",
    "import pandas as pd\n",
    "import matplotlib.pyplot as plt\n",
    "from sklearn.model_selection import train_test_split\n",
    "from sklearn.linear_model import LogisticRegression\n",
    "from sklearn.metrics import accuracy_score, confusion_matrix, classification_report\n",
    "import seaborn as sns\n",
    "from google.colab import drive\n",
    "\n",
    "\n",
    "drive.mount('/content/drive')\n",
    "\n",
    "# Teil 2: Daten einlesen\n",
    "file_path = '/content/drive/MyDrive/Python_DataScience/ML/DiseaseListe1.csv' #ggf. Pfad zur .csv ergänzen / file_path = 'DiseaseListe1.csv'\n",
    "df = pd.read_csv(file_path)\n",
    "\n",
    "# Überprüfen der ersten Zeilen des DataFrames\n",
    "print(\"Erste Zeilen des Datensatzes:\")\n",
    "print(df.head())\n",
    "\n",
    "# Teil 3: Datenvorbereitung\n",
    "X = df[['Age', 'BMI', 'BloodPressure', 'Cholesterol']] # Merkmale\n",
    "y = df['Disease'] # Zielvariable\n",
    "\n",
    "# Aufteilen der Daten in Trainings- und Testdatensatz\n",
    "X_train, X_test, y_train, y_test = train_test_split(X, y,\n",
    "test_size=0.3, random_state=42)\n",
    "\n",
    "# Teil 4: Modell erstellen und trainieren\n",
    "model = LogisticRegression(max_iter=1000) # max_iter erhöht die maximale Anzahl der Iterationen, falls erforderlich\n",
    "model.fit(X_train, y_train)\n",
    "\n",
    "\n",
    "# Teil 5: Modellbewertung\n",
    "# Vorhersagen auf den Testdaten\n",
    "y_pred = model.predict(X_test)\n",
    "\n",
    "# Berechnung der Leistungsmetriken\n",
    "accuracy = accuracy_score(y_test, y_pred)\n",
    "conf_matrix = confusion_matrix(y_test, y_pred)\n",
    "class_report = classification_report(y_test, y_pred)\n",
    "print(f\"Genauigkeit: {accuracy:.2f}\")\n",
    "print(\"\\nKlassifikationsbericht:\")\n",
    "print(class_report)\n",
    "\n",
    "# Verwirrungsmatrix anzeigen\n",
    "sns.heatmap(conf_matrix, annot=True, fmt='d', cmap='Blues',\n",
    "xticklabels=['Gesund', 'Krank'], yticklabels=['Gesund', 'Krank'])\n",
    "plt.title('Verwirrungsmatrix')\n",
    "plt.xlabel('Vorhergesagt')\n",
    "plt.ylabel('Tatsächlich')\n",
    "plt.show()\n",
    "\n",
    "# Teil 6: Modellanwendung\n",
    "def predict_disease(age, bmi, blood_pressure, cholesterol):\n",
    "  features = np.array([[age, bmi, blood_pressure, cholesterol]])\n",
    "  prediction = model.predict(features)\n",
    "  return \"Krank\" if prediction[0] == 1 else \"Gesund\"\n",
    "\n",
    "# Beispielvorhersage\n",
    "example_patient = (50, 26.0, 130, 210)\n",
    "predicted_status = predict_disease(*example_patient)\n",
    "print(f\"Vorhergesagter Krankheitsstatus für einen Patienten mit Alter {example_patient[0]}, BMI {example_patient[1]}, Blutdruck {example_patient[2]}, und Cholesterin {example_patient[3]}:{predicted_status}\")\n",
    "\n",
    "# Teil 7: Modellparameter\n",
    "params = model.get_params()\n",
    "\n",
    "params_text = [\"Inverse of regularization strength\", \"Weights associated with classes\", \"Dual or primal formulation\", \"Whether to include an intercept\", \"Scaling of the intercept\", \"Elastic-Net mixing parameter\", \"Maximum number of iterations\", \"Multi-class option\", \"Number of CPU cores used\", \"Norm used in the penalization\", \"Seed for random number generation\", \"Algorithm to use in the optimization\", \"Tolerance for stopping criteria\", \"Verbosity mode\", \"Reuse the solution of the previous call\"]\n",
    "\n",
    "print(\"Modellparameter:\\n\")\n",
    "count = 0\n",
    "for key, value in params.items():\n",
    "  if count == len(params_text):\n",
    "    count = 0\n",
    "    break\n",
    "\n",
    "  print(f\"'{key}': {value} -- {params_text[count]}\")\n",
    "  count += 1\n",
    "\n",
    "\n",
    "# DataFrame Alternative\n",
    "print(\"\\n\")\n",
    "\n",
    "data = []\n",
    "count = 0\n",
    "\n",
    "for key, value in params.items():\n",
    "    data.append([key, value, params_text[count]])\n",
    "\n",
    "    count += 1\n",
    "    if count == len(params_text):\n",
    "        count = 0\n",
    "        break\n",
    "\n",
    "df_params = pd.DataFrame(data, columns=['Parameter', 'Aktueller Wert', 'Beschreibung'])\n",
    "\n",
    "# DataFrame ausgeben\n",
    "print(df_params, \"\\n\")"
   ]
  },
  {
   "cell_type": "code",
   "source": [],
   "metadata": {
    "id": "52Y-4FZu0PDD",
    "executionInfo": {
     "status": "ok",
     "timestamp": 1724662101733,
     "user_tz": -120,
     "elapsed": 2,
     "user": {
      "displayName": "Eric Thomas",
      "userId": "14023923004756368365"
     }
    }
   },
   "execution_count": 46,
   "outputs": []
  }
 ]
}
